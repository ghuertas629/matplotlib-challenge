{
 "cells": [
  {
   "cell_type": "markdown",
   "metadata": {},
   "source": [
    "## Observations and Insights"
   ]
  },
  {
   "cell_type": "markdown",
   "metadata": {},
   "source": []
  },
  {
   "cell_type": "markdown",
   "metadata": {},
   "source": [
    "## Dependencies and starter code"
   ]
  },
  {
   "cell_type": "code",
   "execution_count": 2,
   "metadata": {},
   "outputs": [
    {
     "data": {
      "text/html": [
       "<div>\n",
       "<style scoped>\n",
       "    .dataframe tbody tr th:only-of-type {\n",
       "        vertical-align: middle;\n",
       "    }\n",
       "\n",
       "    .dataframe tbody tr th {\n",
       "        vertical-align: top;\n",
       "    }\n",
       "\n",
       "    .dataframe thead th {\n",
       "        text-align: right;\n",
       "    }\n",
       "</style>\n",
       "<table border=\"1\" class=\"dataframe\">\n",
       "  <thead>\n",
       "    <tr style=\"text-align: right;\">\n",
       "      <th></th>\n",
       "      <th>Mouse ID</th>\n",
       "      <th>Drug Regimen</th>\n",
       "      <th>Sex</th>\n",
       "      <th>Age_months</th>\n",
       "      <th>Weight (g)</th>\n",
       "      <th>Timepoint</th>\n",
       "      <th>Tumor Volume (mm3)</th>\n",
       "      <th>Metastatic Sites</th>\n",
       "    </tr>\n",
       "  </thead>\n",
       "  <tbody>\n",
       "    <tr>\n",
       "      <th>0</th>\n",
       "      <td>k403</td>\n",
       "      <td>Ramicane</td>\n",
       "      <td>Male</td>\n",
       "      <td>21</td>\n",
       "      <td>16</td>\n",
       "      <td>0</td>\n",
       "      <td>45.000000</td>\n",
       "      <td>0</td>\n",
       "    </tr>\n",
       "    <tr>\n",
       "      <th>1</th>\n",
       "      <td>k403</td>\n",
       "      <td>Ramicane</td>\n",
       "      <td>Male</td>\n",
       "      <td>21</td>\n",
       "      <td>16</td>\n",
       "      <td>5</td>\n",
       "      <td>38.825898</td>\n",
       "      <td>0</td>\n",
       "    </tr>\n",
       "    <tr>\n",
       "      <th>2</th>\n",
       "      <td>k403</td>\n",
       "      <td>Ramicane</td>\n",
       "      <td>Male</td>\n",
       "      <td>21</td>\n",
       "      <td>16</td>\n",
       "      <td>10</td>\n",
       "      <td>35.014271</td>\n",
       "      <td>1</td>\n",
       "    </tr>\n",
       "    <tr>\n",
       "      <th>3</th>\n",
       "      <td>k403</td>\n",
       "      <td>Ramicane</td>\n",
       "      <td>Male</td>\n",
       "      <td>21</td>\n",
       "      <td>16</td>\n",
       "      <td>15</td>\n",
       "      <td>34.223992</td>\n",
       "      <td>1</td>\n",
       "    </tr>\n",
       "    <tr>\n",
       "      <th>4</th>\n",
       "      <td>k403</td>\n",
       "      <td>Ramicane</td>\n",
       "      <td>Male</td>\n",
       "      <td>21</td>\n",
       "      <td>16</td>\n",
       "      <td>20</td>\n",
       "      <td>32.997729</td>\n",
       "      <td>1</td>\n",
       "    </tr>\n",
       "  </tbody>\n",
       "</table>\n",
       "</div>"
      ],
      "text/plain": [
       "  Mouse ID Drug Regimen   Sex  Age_months  Weight (g)  Timepoint  \\\n",
       "0     k403     Ramicane  Male          21          16          0   \n",
       "1     k403     Ramicane  Male          21          16          5   \n",
       "2     k403     Ramicane  Male          21          16         10   \n",
       "3     k403     Ramicane  Male          21          16         15   \n",
       "4     k403     Ramicane  Male          21          16         20   \n",
       "\n",
       "   Tumor Volume (mm3)  Metastatic Sites  \n",
       "0           45.000000                 0  \n",
       "1           38.825898                 0  \n",
       "2           35.014271                 1  \n",
       "3           34.223992                 1  \n",
       "4           32.997729                 1  "
      ]
     },
     "execution_count": 2,
     "metadata": {},
     "output_type": "execute_result"
    }
   ],
   "source": [
    "# Dependencies and Setup\n",
    "import matplotlib.pyplot as plt\n",
    "import pandas as pd\n",
    "import scipy.stats as st\n",
    "import numpy as np\n",
    "\n",
    "# Study data files\n",
    "mouse_metadata = \"data/Mouse_metadata.csv\"\n",
    "study_results = \"data/Study_results.csv\"\n",
    "\n",
    "# Read the mouse data and the study results\n",
    "mouse_metadata = pd.read_csv(mouse_metadata)\n",
    "study_results = pd.read_csv(study_results)\n",
    "\n",
    "# Combine the data into a single dataset\n",
    "combined_dataset_df = pd.merge(mouse_metadata, study_results, how='outer', on='Mouse ID')\n",
    "combined_dataset_df.head()"
   ]
  },
  {
   "cell_type": "markdown",
   "metadata": {},
   "source": [
    "## Summary statistics"
   ]
  },
  {
   "cell_type": "code",
   "execution_count": 3,
   "metadata": {},
   "outputs": [
    {
     "data": {
      "text/html": [
       "<div>\n",
       "<style scoped>\n",
       "    .dataframe tbody tr th:only-of-type {\n",
       "        vertical-align: middle;\n",
       "    }\n",
       "\n",
       "    .dataframe tbody tr th {\n",
       "        vertical-align: top;\n",
       "    }\n",
       "\n",
       "    .dataframe thead tr th {\n",
       "        text-align: left;\n",
       "    }\n",
       "\n",
       "    .dataframe thead tr:last-of-type th {\n",
       "        text-align: right;\n",
       "    }\n",
       "</style>\n",
       "<table border=\"1\" class=\"dataframe\">\n",
       "  <thead>\n",
       "    <tr>\n",
       "      <th></th>\n",
       "      <th colspan=\"5\" halign=\"left\">Tumor Volume (mm3)</th>\n",
       "    </tr>\n",
       "    <tr>\n",
       "      <th></th>\n",
       "      <th>mean</th>\n",
       "      <th>median</th>\n",
       "      <th>var</th>\n",
       "      <th>std</th>\n",
       "      <th>sem</th>\n",
       "    </tr>\n",
       "    <tr>\n",
       "      <th>Drug Regimen</th>\n",
       "      <th></th>\n",
       "      <th></th>\n",
       "      <th></th>\n",
       "      <th></th>\n",
       "      <th></th>\n",
       "    </tr>\n",
       "  </thead>\n",
       "  <tbody>\n",
       "    <tr>\n",
       "      <th>Capomulin</th>\n",
       "      <td>40.675741</td>\n",
       "      <td>41.557809</td>\n",
       "      <td>24.947764</td>\n",
       "      <td>4.994774</td>\n",
       "      <td>0.329346</td>\n",
       "    </tr>\n",
       "    <tr>\n",
       "      <th>Ceftamin</th>\n",
       "      <td>52.591172</td>\n",
       "      <td>51.776157</td>\n",
       "      <td>39.290177</td>\n",
       "      <td>6.268188</td>\n",
       "      <td>0.469821</td>\n",
       "    </tr>\n",
       "    <tr>\n",
       "      <th>Infubinol</th>\n",
       "      <td>52.884795</td>\n",
       "      <td>51.820584</td>\n",
       "      <td>43.128684</td>\n",
       "      <td>6.567243</td>\n",
       "      <td>0.492236</td>\n",
       "    </tr>\n",
       "    <tr>\n",
       "      <th>Ketapril</th>\n",
       "      <td>55.235638</td>\n",
       "      <td>53.698743</td>\n",
       "      <td>68.553577</td>\n",
       "      <td>8.279709</td>\n",
       "      <td>0.603860</td>\n",
       "    </tr>\n",
       "    <tr>\n",
       "      <th>Naftisol</th>\n",
       "      <td>54.331565</td>\n",
       "      <td>52.509285</td>\n",
       "      <td>66.173479</td>\n",
       "      <td>8.134708</td>\n",
       "      <td>0.596466</td>\n",
       "    </tr>\n",
       "    <tr>\n",
       "      <th>Placebo</th>\n",
       "      <td>54.033581</td>\n",
       "      <td>52.288934</td>\n",
       "      <td>61.168083</td>\n",
       "      <td>7.821003</td>\n",
       "      <td>0.581331</td>\n",
       "    </tr>\n",
       "    <tr>\n",
       "      <th>Propriva</th>\n",
       "      <td>52.322552</td>\n",
       "      <td>50.854632</td>\n",
       "      <td>42.351070</td>\n",
       "      <td>6.507770</td>\n",
       "      <td>0.512884</td>\n",
       "    </tr>\n",
       "    <tr>\n",
       "      <th>Ramicane</th>\n",
       "      <td>40.216745</td>\n",
       "      <td>40.673236</td>\n",
       "      <td>23.486704</td>\n",
       "      <td>4.846308</td>\n",
       "      <td>0.320955</td>\n",
       "    </tr>\n",
       "    <tr>\n",
       "      <th>Stelasyn</th>\n",
       "      <td>54.233149</td>\n",
       "      <td>52.431737</td>\n",
       "      <td>59.450562</td>\n",
       "      <td>7.710419</td>\n",
       "      <td>0.573111</td>\n",
       "    </tr>\n",
       "    <tr>\n",
       "      <th>Zoniferol</th>\n",
       "      <td>53.236507</td>\n",
       "      <td>51.818479</td>\n",
       "      <td>48.533355</td>\n",
       "      <td>6.966589</td>\n",
       "      <td>0.516398</td>\n",
       "    </tr>\n",
       "  </tbody>\n",
       "</table>\n",
       "</div>"
      ],
      "text/plain": [
       "             Tumor Volume (mm3)                                          \n",
       "                           mean     median        var       std       sem\n",
       "Drug Regimen                                                             \n",
       "Capomulin             40.675741  41.557809  24.947764  4.994774  0.329346\n",
       "Ceftamin              52.591172  51.776157  39.290177  6.268188  0.469821\n",
       "Infubinol             52.884795  51.820584  43.128684  6.567243  0.492236\n",
       "Ketapril              55.235638  53.698743  68.553577  8.279709  0.603860\n",
       "Naftisol              54.331565  52.509285  66.173479  8.134708  0.596466\n",
       "Placebo               54.033581  52.288934  61.168083  7.821003  0.581331\n",
       "Propriva              52.322552  50.854632  42.351070  6.507770  0.512884\n",
       "Ramicane              40.216745  40.673236  23.486704  4.846308  0.320955\n",
       "Stelasyn              54.233149  52.431737  59.450562  7.710419  0.573111\n",
       "Zoniferol             53.236507  51.818479  48.533355  6.966589  0.516398"
      ]
     },
     "execution_count": 3,
     "metadata": {},
     "output_type": "execute_result"
    }
   ],
   "source": [
    "# Generate a summary statistics table of mean, median, variance, standard deviation, and SEM of the tumor volume for each regimen\n",
    "new_df = combined_dataset_df.copy()\n",
    "\n",
    "regimen_stats = new_df.groupby('Drug Regimen').agg({\"Tumor Volume (mm3)\":['mean','median','var','std','sem']})\n",
    "\n",
    "regimen_stats"
   ]
  },
  {
   "cell_type": "markdown",
   "metadata": {},
   "source": [
    "## Bar plots"
   ]
  },
  {
   "cell_type": "code",
   "execution_count": 4,
   "metadata": {},
   "outputs": [
    {
     "data": {
      "image/png": "[encoded data removed]",
      "text/plain": [
       "<Figure size 432x288 with 1 Axes>"
      ]
     },
     "metadata": {
      "needs_background": "light"
     },
     "output_type": "display_data"
    }
   ],
   "source": [
    "# Generate a bar plot showing number of data points for each treatment regimen using pandas\n",
    "regimen_count = new_df.groupby('Drug Regimen')\n",
    "\n",
    "regimen_number = regimen_count['Drug Regimen'].count()\n",
    "\n",
    "regimen_data_points = pd.DataFrame({'Number of Data Points': regimen_number})\n",
    "\n",
    "regimen_data_points.sort_values(by='Number of Data Points', ascending=False).plot(kind=\"bar\", align=\"center\", legend=False, width=0.75)\n",
    "plt.ylabel(\"Number of Data Points\")\n",
    "\n",
    "plt.xlim(-0.75, len(regimen_data_points)-0.25)\n",
    "plt.ylim(0, max(regimen_data_points[\"Number of Data Points\"])+10)\n",
    "\n",
    "plt.show()"
   ]
  },
  {
   "cell_type": "code",
   "execution_count": 5,
   "metadata": {},
   "outputs": [
    {
     "data": {
      "image/png": "[encoded data removed]",
      "text/plain": [
       "<Figure size 432x288 with 1 Axes>"
      ]
     },
     "metadata": {
      "needs_background": "light"
     },
     "output_type": "display_data"
    }
   ],
   "source": [
    "# Generate a bar plot showing number of data points for each treatment regimen using pyplot\n",
    "x_axis = np.arange(len(regimen_data_points))\n",
    "tick_locations = [value for value in x_axis]\n",
    "\n",
    "regimen_data_points = regimen_data_points.sort_values(by='Number of Data Points', ascending=False)\n",
    "plt.bar(x_axis, regimen_data_points['Number of Data Points'], align=\"center\")\n",
    "plt.xticks(tick_locations, regimen_data_points.index, rotation=\"vertical\")\n",
    "plt.xlabel(\"Drug Regimen\")\n",
    "plt.ylabel(\"Number of Data Points\")\n",
    "\n",
    "plt.xlim(-0.75, len(regimen_data_points)-0.25)\n",
    "plt.ylim(0, max(regimen_data_points[\"Number of Data Points\"])+10)\n",
    "\n",
    "plt.show()"
   ]
  },
  {
   "cell_type": "markdown",
   "metadata": {},
   "source": [
    "## Pie plots"
   ]
  },
  {
   "cell_type": "code",
   "execution_count": 6,
   "metadata": {},
   "outputs": [
    {
     "data": {
      "image/png": "[encoded data removed]",
      "text/plain": [
       "<Figure size 432x288 with 1 Axes>"
      ]
     },
     "metadata": {},
     "output_type": "display_data"
    }
   ],
   "source": [
    "# Generate a pie plot showing the distribution of female versus male mice using pandas\n",
    "new_df1 = combined_dataset_df.copy()\n",
    "\n",
    "unique_mice = new_df1.drop_duplicates(subset =\"Mouse ID\", keep = 'first', inplace = True)\n",
    "\n",
    "gender_stats = new_df1.groupby('Sex')\n",
    "\n",
    "gender_number = gender_stats['Sex'].count()\n",
    "\n",
    "gender_data_points = pd.DataFrame({'Sex': gender_number})\n",
    "\n",
    "colors = [\"darkorange\", \"steelblue\"]\n",
    "\n",
    "gender_data_points['Sex'].plot(kind='pie', autopct=\"%1.1f%%\", startangle=180, colors=colors)\n",
    "\n",
    "plt.show()"
   ]
  },
  {
   "cell_type": "code",
   "execution_count": 7,
   "metadata": {},
   "outputs": [
    {
     "data": {
      "image/png": "[encoded data removed]",
      "text/plain": [
       "<Figure size 432x288 with 1 Axes>"
      ]
     },
     "metadata": {},
     "output_type": "display_data"
    }
   ],
   "source": [
    "# Generate a pie plot showing the distribution of female versus male mice using pyplot\n",
    "labels=['Female', 'Male']\n",
    "\n",
    "plt.pie(gender_data_points['Sex'], autopct=\"%1.1f%%\", labels=labels, colors=colors, startangle=180)\n",
    "\n",
    "plt.ylabel('Sex')\n",
    "\n",
    "plt.show()"
   ]
  },
  {
   "cell_type": "markdown",
   "metadata": {},
   "source": [
    "## Quartiles, outliers and boxplots"
   ]
  },
  {
   "cell_type": "code",
   "execution_count": 8,
   "metadata": {},
   "outputs": [
    {
     "data": {
      "text/html": [
       "<div>\n",
       "<style scoped>\n",
       "    .dataframe tbody tr th:only-of-type {\n",
       "        vertical-align: middle;\n",
       "    }\n",
       "\n",
       "    .dataframe tbody tr th {\n",
       "        vertical-align: top;\n",
       "    }\n",
       "\n",
       "    .dataframe thead th {\n",
       "        text-align: right;\n",
       "    }\n",
       "</style>\n",
       "<table border=\"1\" class=\"dataframe\">\n",
       "  <thead>\n",
       "    <tr style=\"text-align: right;\">\n",
       "      <th></th>\n",
       "      <th>Drug Regimen</th>\n",
       "      <th>Lower Quartile</th>\n",
       "      <th>Upper Quartile</th>\n",
       "      <th>IQR</th>\n",
       "      <th>Lower Bound</th>\n",
       "      <th>Upper Bound</th>\n",
       "      <th>Outliers</th>\n",
       "    </tr>\n",
       "  </thead>\n",
       "  <tbody>\n",
       "    <tr>\n",
       "      <th>0</th>\n",
       "      <td>Capomulin</td>\n",
       "      <td>32.377357</td>\n",
       "      <td>40.159220</td>\n",
       "      <td>7.781863</td>\n",
       "      <td>20.704562</td>\n",
       "      <td>51.832015</td>\n",
       "      <td>[]</td>\n",
       "    </tr>\n",
       "    <tr>\n",
       "      <th>1</th>\n",
       "      <td>Ramicane</td>\n",
       "      <td>31.560470</td>\n",
       "      <td>40.659006</td>\n",
       "      <td>9.098537</td>\n",
       "      <td>17.912664</td>\n",
       "      <td>54.306811</td>\n",
       "      <td>[]</td>\n",
       "    </tr>\n",
       "    <tr>\n",
       "      <th>2</th>\n",
       "      <td>Infubinol</td>\n",
       "      <td>54.048608</td>\n",
       "      <td>65.525743</td>\n",
       "      <td>11.477135</td>\n",
       "      <td>36.832905</td>\n",
       "      <td>82.741446</td>\n",
       "      <td>[36.321345799999996]</td>\n",
       "    </tr>\n",
       "    <tr>\n",
       "      <th>3</th>\n",
       "      <td>Ceftamin</td>\n",
       "      <td>48.722078</td>\n",
       "      <td>64.299830</td>\n",
       "      <td>15.577752</td>\n",
       "      <td>25.355450</td>\n",
       "      <td>87.666458</td>\n",
       "      <td>[]</td>\n",
       "    </tr>\n",
       "  </tbody>\n",
       "</table>\n",
       "</div>"
      ],
      "text/plain": [
       "  Drug Regimen  Lower Quartile  Upper Quartile        IQR  Lower Bound  \\\n",
       "0    Capomulin       32.377357       40.159220   7.781863    20.704562   \n",
       "1     Ramicane       31.560470       40.659006   9.098537    17.912664   \n",
       "2    Infubinol       54.048608       65.525743  11.477135    36.832905   \n",
       "3     Ceftamin       48.722078       64.299830  15.577752    25.355450   \n",
       "\n",
       "   Upper Bound              Outliers  \n",
       "0    51.832015                    []  \n",
       "1    54.306811                    []  \n",
       "2    82.741446  [36.321345799999996]  \n",
       "3    87.666458                    []  "
      ]
     },
     "execution_count": 8,
     "metadata": {},
     "output_type": "execute_result"
    }
   ],
   "source": [
    "# Calculate the final tumor volume of each mouse across four of the most promising treatment regimens. Calculate the IQR and quantitatively determine if there are any potential outliers.\n",
    "new_df2 = combined_dataset_df.copy()\n",
    "\n",
    "last_record = new_df2.drop_duplicates(subset =\"Mouse ID\", keep = 'last', inplace = True)\n",
    "\n",
    "capomulin_df = new_df2.loc[new_df2['Drug Regimen'] == 'Capomulin']\n",
    "ramicane_df = new_df2.loc[new_df2['Drug Regimen'] == 'Ramicane']\n",
    "infubinol_df = new_df2.loc[new_df2['Drug Regimen'] == 'Infubinol']\n",
    "ceftamin_df = new_df2.loc[new_df2['Drug Regimen'] == 'Ceftamin']\n",
    "\n",
    "cap_tumor_volume = capomulin_df['Tumor Volume (mm3)']\n",
    "cap_quartiles = cap_tumor_volume.quantile([0.25, 0.5, 0.75])\n",
    "cap_lower_quartile = cap_quartiles[0.25]\n",
    "cap_upper_quartile = cap_quartiles[0.75]\n",
    "cap_iqr = cap_upper_quartile - cap_lower_quartile\n",
    "cap_lower_bound = cap_lower_quartile - (1.5 * cap_iqr)\n",
    "cap_upper_bound = cap_upper_quartile + (1.5 * cap_iqr)\n",
    "\n",
    "ram_tumor_volume = ramicane_df['Tumor Volume (mm3)']\n",
    "ram_quartiles = ram_tumor_volume.quantile([0.25, 0.5, 0.75])\n",
    "ram_lower_quartile = ram_quartiles[0.25]\n",
    "ram_upper_quartile = ram_quartiles[0.75]\n",
    "ram_iqr = ram_upper_quartile - ram_lower_quartile\n",
    "ram_lower_bound = ram_lower_quartile - (1.5 * ram_iqr)\n",
    "ram_upper_bound = ram_upper_quartile + (1.5 * ram_iqr)\n",
    "\n",
    "inf_tumor_volume = infubinol_df['Tumor Volume (mm3)']\n",
    "inf_quartiles = inf_tumor_volume.quantile([0.25, 0.5, 0.75])\n",
    "inf_lower_quartile = inf_quartiles[0.25]\n",
    "inf_upper_quartile = inf_quartiles[0.75]\n",
    "inf_iqr = inf_upper_quartile - inf_lower_quartile\n",
    "inf_lower_bound = inf_lower_quartile - (1.5 * inf_iqr)\n",
    "inf_upper_bound = inf_upper_quartile + (1.5 * inf_iqr)\n",
    "\n",
    "cef_tumor_volume = ceftamin_df['Tumor Volume (mm3)']\n",
    "cef_quartiles = cef_tumor_volume.quantile([0.25, 0.5, 0.75])\n",
    "cef_lower_quartile = cef_quartiles[0.25]\n",
    "cef_upper_quartile = cef_quartiles[0.75]\n",
    "cef_iqr = cef_upper_quartile - cef_lower_quartile\n",
    "cef_lower_bound = cef_lower_quartile - (1.5 * cef_iqr)\n",
    "cef_upper_bound = cef_upper_quartile + (1.5 * cef_iqr)\n",
    "\n",
    "cap_outliers = []\n",
    "for tumor in cap_tumor_volume:\n",
    "    if tumor > cap_upper_bound or tumor < cap_lower_bound:\n",
    "        cap_outliers.append(tumor)\n",
    "        \n",
    "ram_outliers = []\n",
    "for tumor in ram_tumor_volume:\n",
    "    if tumor > ram_upper_bound or tumor < ram_lower_bound:\n",
    "        ram_outliers.append(tumor)\n",
    "\n",
    "inf_outliers = []\n",
    "for tumor in inf_tumor_volume:\n",
    "    if tumor > inf_upper_bound or tumor < inf_lower_bound:\n",
    "        inf_outliers.append(tumor)\n",
    "        \n",
    "cef_outliers = []\n",
    "for tumor in cef_tumor_volume:\n",
    "    if tumor > cef_upper_bound or tumor < cef_lower_bound:\n",
    "        cef_outliers.append(tumor)\n",
    "        \n",
    "quartile_outlier_df = pd.DataFrame({'Drug Regimen': ['Capomulin','Ramicane','Infubinol','Ceftamin'],\n",
    "                                    'Lower Quartile': [cap_lower_quartile,ram_lower_quartile,inf_lower_quartile,cef_lower_quartile],\n",
    "                                    'Upper Quartile': [cap_upper_quartile,ram_upper_quartile,inf_upper_quartile,cef_upper_quartile],\n",
    "                                    'IQR': [cap_iqr,ram_iqr,inf_iqr,cef_iqr],\n",
    "                                    'Lower Bound': [cap_lower_bound,ram_lower_bound,inf_lower_bound,cef_lower_bound],\n",
    "                                    'Upper Bound': [cap_upper_bound,ram_upper_bound,inf_upper_bound,cef_upper_bound],\n",
    "                                    'Outliers': [cap_outliers,ram_outliers,inf_outliers,cef_outliers]\n",
    "                                   })\n",
    "\n",
    "quartile_outlier_df"
   ]
  },
  {
   "cell_type": "code",
   "execution_count": 9,
   "metadata": {},
   "outputs": [
    {
     "data": {
      "image/png": "[encoded data removed]",
      "text/plain": [
       "<Figure size 432x288 with 1 Axes>"
      ]
     },
     "metadata": {
      "needs_background": "light"
     },
     "output_type": "display_data"
    }
   ],
   "source": [
    "# Generate a box plot of the final tumor volume of each mouse across four regimens of interest\n",
    "graph_data = [cap_tumor_volume,ram_tumor_volume,inf_tumor_volume,cef_tumor_volume]\n",
    "labels = ['Capomulin','Ramicane','Infubinol','Ceftamin']\n",
    "\n",
    "fig1, ax1 = plt.subplots()\n",
    "ax1.set_xlabel('Drug Regimen')\n",
    "ax1.set_ylabel('Final Tumor Volume (mm3)')\n",
    "\n",
    "flierprops = dict(marker='o', markerfacecolor='red', markersize=12,\n",
    "                  linestyle='none', markeredgecolor='black')\n",
    "\n",
    "ax1.boxplot(graph_data, labels=labels, flierprops=flierprops)\n",
    "\n",
    "plt.show()"
   ]
  },
  {
   "cell_type": "markdown",
   "metadata": {},
   "source": [
    "## Line and scatter plots"
   ]
  },
  {
   "cell_type": "code",
   "execution_count": 10,
   "metadata": {},
   "outputs": [
    {
     "data": {
      "image/png": "[encoded data removed]",
      "text/plain": [
       "<Figure size 432x288 with 1 Axes>"
      ]
     },
     "metadata": {
      "needs_background": "light"
     },
     "output_type": "display_data"
    }
   ],
   "source": [
    "# Generate a line plot of time point versus tumor volume for a mouse treated with Capomulin\n",
    "new_df3 = combined_dataset_df.copy()\n",
    "\n",
    "line_plot_df = new_df3.loc[new_df3['Mouse ID'] == 's185']\n",
    "x_axis = line_plot_df['Timepoint']\n",
    "y_axis = line_plot_df['Tumor Volume (mm3)']\n",
    "\n",
    "plt.plot(x_axis, y_axis)\n",
    "plt.xlabel(\"Timepoint\")\n",
    "plt.ylabel(\"Tumor Volume (mm3)\")\n",
    "\n",
    "plt.show()"
   ]
  },
  {
   "cell_type": "code",
   "execution_count": 11,
   "metadata": {},
   "outputs": [
    {
     "data": {
      "image/png": "[encoded data removed]",
      "text/plain": [
       "<Figure size 432x288 with 1 Axes>"
      ]
     },
     "metadata": {
      "needs_background": "light"
     },
     "output_type": "display_data"
    }
   ],
   "source": [
    "# Generate a scatter plot of mouse weight versus average tumor volume for the Capomulin regimen\n",
    "new_df4 = combined_dataset_df.copy()\n",
    "\n",
    "capomulin_vol_df = new_df4.loc[new_df4['Drug Regimen'] == 'Capomulin']\n",
    "\n",
    "avg_tumor_vol = capomulin_vol_df.groupby('Mouse ID').mean()\n",
    "x_axis = avg_tumor_vol['Weight (g)']\n",
    "y_axis = avg_tumor_vol['Tumor Volume (mm3)']\n",
    "\n",
    "plt.scatter(x_axis, y_axis, marker=\"o\", facecolors=\"red\", edgecolors=\"black\")\n",
    "plt.xlabel(\"Weight (g)\")\n",
    "plt.ylabel(\"Average Tumor Volume (mm3)\")\n",
    "\n",
    "plt.show()"
   ]
  },
  {
   "cell_type": "code",
   "execution_count": 39,
   "metadata": {},
   "outputs": [
    {
     "name": "stdout",
     "output_type": "stream",
     "text": [
      "The correlation coefficient between mouse weight and average tumor volume (mm3) is 0.84\n"
     ]
    },
    {
     "data": {
      "image/png": "[encoded data removed]",
      "text/plain": [
       "<Figure size 432x288 with 1 Axes>"
      ]
     },
     "metadata": {
      "needs_background": "light"
     },
     "output_type": "display_data"
    },
    {
     "name": "stdout",
     "output_type": "stream",
     "text": [
      "LinregressResult(slope=0.9544396890241045, intercept=21.552160532685015, rvalue=0.8419363424694718, pvalue=1.3225722434712645e-07, stderr=0.1275435903320134)\n"
     ]
    }
   ],
   "source": [
    "# Calculate the correlation coefficient and linear regression model for mouse weight and average tumor volume for the Capomulin regimen\n",
    "print(f\"The correlation coefficient between mouse weight and average tumor volume (mm3) is {round(st.pearsonr(x_axis,y_axis)[0],2)}\")\n",
    "\n",
    "plt.scatter(x_axis, y_axis, marker=\"o\", facecolors=\"red\", edgecolors=\"black\")\n",
    "plt.xlabel(\"Weight (g)\")\n",
    "plt.ylabel(\"Average Tumor Volume (mm3)\")\n",
    "\n",
    "lin_slope, lin_int, lin_r, lin_p, lin_std_err = st.linregress(x_axis, y_axis)\n",
    "\n",
    "lin_reg = lin_slope * x_axis + lin_int\n",
    "\n",
    "plt.plot(x_axis, lin_reg, color='black')\n",
    "plt.text(17.5, 37.5, f\"y = {lin_slope:.2f} * x + {lin_int:.2f}\", fontsize=14)\n",
    "\n",
    "plt.show()\n",
    "\n",
    "print(st.linregress(x_axis, y_axis))"
   ]
  },
  {
   "cell_type": "code",
   "execution_count": null,
   "metadata": {},
   "outputs": [],
   "source": []
  }
 ],
 "metadata": {
  "anaconda-cloud": {},
  "kernelspec": {
   "display_name": "Python [conda env:PythonData] *",
   "language": "python",
   "name": "conda-env-PythonData-py"
  },
  "language_info": {
   "codemirror_mode": {
    "name": "ipython",
    "version": 3
   },
   "file_extension": ".py",
   "mimetype": "text/x-python",
   "name": "python",
   "nbconvert_exporter": "python",
   "pygments_lexer": "ipython3",
   "version": "3.7.6"
  }
 },
 "nbformat": 4,
 "nbformat_minor": 2
}
